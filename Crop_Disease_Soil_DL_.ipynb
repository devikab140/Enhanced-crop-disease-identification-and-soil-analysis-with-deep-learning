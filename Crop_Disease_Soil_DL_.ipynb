{
  "cells": [
    {
      "cell_type": "code",
      "execution_count": null,
      "metadata": {
        "colab": {
          "base_uri": "https://localhost:8080/"
        },
        "id": "xo69YHeXPOjA",
        "outputId": "1ce57b6b-e61f-4b08-a705-ebcad72eea39",
        "collapsed": true
      },
      "outputs": [
        {
          "output_type": "stream",
          "name": "stdout",
          "text": [
            "Requirement already satisfied: tensorflow in /usr/local/lib/python3.11/dist-packages (2.18.0)\n",
            "Requirement already satisfied: numpy in /usr/local/lib/python3.11/dist-packages (2.0.2)\n",
            "Requirement already satisfied: pandas in /usr/local/lib/python3.11/dist-packages (2.2.2)\n",
            "Requirement already satisfied: opencv-python in /usr/local/lib/python3.11/dist-packages (4.11.0.86)\n",
            "Requirement already satisfied: scikit-learn in /usr/local/lib/python3.11/dist-packages (1.6.1)\n",
            "Requirement already satisfied: matplotlib in /usr/local/lib/python3.11/dist-packages (3.10.0)\n",
            "Requirement already satisfied: seaborn in /usr/local/lib/python3.11/dist-packages (0.13.2)\n",
            "Requirement already satisfied: absl-py>=1.0.0 in /usr/local/lib/python3.11/dist-packages (from tensorflow) (1.4.0)\n",
            "Requirement already satisfied: astunparse>=1.6.0 in /usr/local/lib/python3.11/dist-packages (from tensorflow) (1.6.3)\n",
            "Requirement already satisfied: flatbuffers>=24.3.25 in /usr/local/lib/python3.11/dist-packages (from tensorflow) (25.2.10)\n",
            "Requirement already satisfied: gast!=0.5.0,!=0.5.1,!=0.5.2,>=0.2.1 in /usr/local/lib/python3.11/dist-packages (from tensorflow) (0.6.0)\n",
            "Requirement already satisfied: google-pasta>=0.1.1 in /usr/local/lib/python3.11/dist-packages (from tensorflow) (0.2.0)\n",
            "Requirement already satisfied: libclang>=13.0.0 in /usr/local/lib/python3.11/dist-packages (from tensorflow) (18.1.1)\n",
            "Requirement already satisfied: opt-einsum>=2.3.2 in /usr/local/lib/python3.11/dist-packages (from tensorflow) (3.4.0)\n",
            "Requirement already satisfied: packaging in /usr/local/lib/python3.11/dist-packages (from tensorflow) (24.2)\n",
            "Requirement already satisfied: protobuf!=4.21.0,!=4.21.1,!=4.21.2,!=4.21.3,!=4.21.4,!=4.21.5,<6.0.0dev,>=3.20.3 in /usr/local/lib/python3.11/dist-packages (from tensorflow) (5.29.4)\n",
            "Requirement already satisfied: requests<3,>=2.21.0 in /usr/local/lib/python3.11/dist-packages (from tensorflow) (2.32.3)\n",
            "Requirement already satisfied: setuptools in /usr/local/lib/python3.11/dist-packages (from tensorflow) (75.2.0)\n",
            "Requirement already satisfied: six>=1.12.0 in /usr/local/lib/python3.11/dist-packages (from tensorflow) (1.17.0)\n",
            "Requirement already satisfied: termcolor>=1.1.0 in /usr/local/lib/python3.11/dist-packages (from tensorflow) (3.0.1)\n",
            "Requirement already satisfied: typing-extensions>=3.6.6 in /usr/local/lib/python3.11/dist-packages (from tensorflow) (4.13.0)\n",
            "Requirement already satisfied: wrapt>=1.11.0 in /usr/local/lib/python3.11/dist-packages (from tensorflow) (1.17.2)\n",
            "Requirement already satisfied: grpcio<2.0,>=1.24.3 in /usr/local/lib/python3.11/dist-packages (from tensorflow) (1.71.0)\n",
            "Requirement already satisfied: tensorboard<2.19,>=2.18 in /usr/local/lib/python3.11/dist-packages (from tensorflow) (2.18.0)\n",
            "Requirement already satisfied: keras>=3.5.0 in /usr/local/lib/python3.11/dist-packages (from tensorflow) (3.8.0)\n",
            "Requirement already satisfied: h5py>=3.11.0 in /usr/local/lib/python3.11/dist-packages (from tensorflow) (3.13.0)\n",
            "Requirement already satisfied: ml-dtypes<0.5.0,>=0.4.0 in /usr/local/lib/python3.11/dist-packages (from tensorflow) (0.4.1)\n",
            "Requirement already satisfied: tensorflow-io-gcs-filesystem>=0.23.1 in /usr/local/lib/python3.11/dist-packages (from tensorflow) (0.37.1)\n",
            "Requirement already satisfied: python-dateutil>=2.8.2 in /usr/local/lib/python3.11/dist-packages (from pandas) (2.8.2)\n",
            "Requirement already satisfied: pytz>=2020.1 in /usr/local/lib/python3.11/dist-packages (from pandas) (2025.2)\n",
            "Requirement already satisfied: tzdata>=2022.7 in /usr/local/lib/python3.11/dist-packages (from pandas) (2025.2)\n",
            "Requirement already satisfied: scipy>=1.6.0 in /usr/local/lib/python3.11/dist-packages (from scikit-learn) (1.14.1)\n",
            "Requirement already satisfied: joblib>=1.2.0 in /usr/local/lib/python3.11/dist-packages (from scikit-learn) (1.4.2)\n",
            "Requirement already satisfied: threadpoolctl>=3.1.0 in /usr/local/lib/python3.11/dist-packages (from scikit-learn) (3.6.0)\n",
            "Requirement already satisfied: contourpy>=1.0.1 in /usr/local/lib/python3.11/dist-packages (from matplotlib) (1.3.1)\n",
            "Requirement already satisfied: cycler>=0.10 in /usr/local/lib/python3.11/dist-packages (from matplotlib) (0.12.1)\n",
            "Requirement already satisfied: fonttools>=4.22.0 in /usr/local/lib/python3.11/dist-packages (from matplotlib) (4.56.0)\n",
            "Requirement already satisfied: kiwisolver>=1.3.1 in /usr/local/lib/python3.11/dist-packages (from matplotlib) (1.4.8)\n",
            "Requirement already satisfied: pillow>=8 in /usr/local/lib/python3.11/dist-packages (from matplotlib) (11.1.0)\n",
            "Requirement already satisfied: pyparsing>=2.3.1 in /usr/local/lib/python3.11/dist-packages (from matplotlib) (3.2.3)\n",
            "Requirement already satisfied: wheel<1.0,>=0.23.0 in /usr/local/lib/python3.11/dist-packages (from astunparse>=1.6.0->tensorflow) (0.45.1)\n",
            "Requirement already satisfied: rich in /usr/local/lib/python3.11/dist-packages (from keras>=3.5.0->tensorflow) (13.9.4)\n",
            "Requirement already satisfied: namex in /usr/local/lib/python3.11/dist-packages (from keras>=3.5.0->tensorflow) (0.0.8)\n",
            "Requirement already satisfied: optree in /usr/local/lib/python3.11/dist-packages (from keras>=3.5.0->tensorflow) (0.14.1)\n",
            "Requirement already satisfied: charset-normalizer<4,>=2 in /usr/local/lib/python3.11/dist-packages (from requests<3,>=2.21.0->tensorflow) (3.4.1)\n",
            "Requirement already satisfied: idna<4,>=2.5 in /usr/local/lib/python3.11/dist-packages (from requests<3,>=2.21.0->tensorflow) (3.10)\n",
            "Requirement already satisfied: urllib3<3,>=1.21.1 in /usr/local/lib/python3.11/dist-packages (from requests<3,>=2.21.0->tensorflow) (2.3.0)\n",
            "Requirement already satisfied: certifi>=2017.4.17 in /usr/local/lib/python3.11/dist-packages (from requests<3,>=2.21.0->tensorflow) (2025.1.31)\n",
            "Requirement already satisfied: markdown>=2.6.8 in /usr/local/lib/python3.11/dist-packages (from tensorboard<2.19,>=2.18->tensorflow) (3.7)\n",
            "Requirement already satisfied: tensorboard-data-server<0.8.0,>=0.7.0 in /usr/local/lib/python3.11/dist-packages (from tensorboard<2.19,>=2.18->tensorflow) (0.7.2)\n",
            "Requirement already satisfied: werkzeug>=1.0.1 in /usr/local/lib/python3.11/dist-packages (from tensorboard<2.19,>=2.18->tensorflow) (3.1.3)\n",
            "Requirement already satisfied: MarkupSafe>=2.1.1 in /usr/local/lib/python3.11/dist-packages (from werkzeug>=1.0.1->tensorboard<2.19,>=2.18->tensorflow) (3.0.2)\n",
            "Requirement already satisfied: markdown-it-py>=2.2.0 in /usr/local/lib/python3.11/dist-packages (from rich->keras>=3.5.0->tensorflow) (3.0.0)\n",
            "Requirement already satisfied: pygments<3.0.0,>=2.13.0 in /usr/local/lib/python3.11/dist-packages (from rich->keras>=3.5.0->tensorflow) (2.18.0)\n",
            "Requirement already satisfied: mdurl~=0.1 in /usr/local/lib/python3.11/dist-packages (from markdown-it-py>=2.2.0->rich->keras>=3.5.0->tensorflow) (0.1.2)\n"
          ]
        }
      ],
      "source": [
        "pip install tensorflow numpy pandas opencv-python scikit-learn matplotlib seaborn\n"
      ]
    },
    {
      "cell_type": "code",
      "execution_count": null,
      "metadata": {
        "id": "vMvKca2zPb8x"
      },
      "outputs": [],
      "source": [
        "import os\n",
        "import cv2\n",
        "import numpy as np\n",
        "import pandas as pd\n",
        "import random\n",
        "import matplotlib.pyplot as plt\n",
        "import seaborn as sns\n",
        "from google.colab import drive\n",
        "from sklearn.model_selection import train_test_split\n",
        "from sklearn.preprocessing import MinMaxScaler\n",
        "from sklearn.impute import SimpleImputer\n",
        "from sklearn.metrics import classification_report, confusion_matrix\n",
        "from tensorflow.keras.preprocessing.image import ImageDataGenerator\n",
        "from tensorflow.keras.applications import EfficientNetB0\n",
        "from tensorflow.keras.layers import Input, Dense, Dropout, Concatenate, BatchNormalization, GlobalAveragePooling2D\n",
        "from tensorflow.keras.models import Model\n",
        "from tensorflow.keras.optimizers import Adam\n",
        "from tensorflow.keras.regularizers import l2\n",
        "from tensorflow.keras.callbacks import EarlyStopping, ReduceLROnPlateau\n",
        "from tensorflow.keras.preprocessing import image\n",
        "from scipy.stats import mode\n",
        "from sklearn.utils.class_weight import compute_class_weight\n"
      ]
    },
    {
      "cell_type": "code",
      "source": [
        "\n",
        "# ✅ Mount Google Drive\n",
        "drive.mount('/content/drive')\n",
        "\n",
        "# ✅ Define Dataset Paths\n",
        "drive_path = \"/content/drive/MyDrive\"\n",
        "train_data_dir = os.path.join(drive_path, \"rice-disease-classification.v1i.folder/train\")\n",
        "valid_data_dir = os.path.join(drive_path, \"rice-disease-classification.v1i.folder/valid\")\n",
        "test_data_dir = os.path.join(drive_path, \"rice-disease-classification.v1i.folder/test\")\n",
        "soil_data_dir = os.path.join(drive_path, \"soil_new\")\n"
      ],
      "metadata": {
        "colab": {
          "base_uri": "https://localhost:8080/"
        },
        "id": "4AI2xMH34vtp",
        "outputId": "2c979c31-9b50-47c4-90e4-263597c07995"
      },
      "execution_count": null,
      "outputs": [
        {
          "output_type": "stream",
          "name": "stdout",
          "text": [
            "Mounted at /content/drive\n"
          ]
        }
      ]
    },
    {
      "cell_type": "code",
      "execution_count": null,
      "metadata": {
        "colab": {
          "base_uri": "https://localhost:8080/"
        },
        "id": "dC7D9agKPGr7",
        "outputId": "2d7e797f-8798-4b1c-b59e-ca9643714bf6"
      },
      "outputs": [
        {
          "output_type": "stream",
          "name": "stdout",
          "text": [
            "Drive already mounted at /content/drive; to attempt to forcibly remount, call drive.mount(\"/content/drive\", force_remount=True).\n"
          ]
        }
      ],
      "source": [
        "drive.mount('/content/drive')\n",
        "drive_path = \"/content/drive/MyDrive\"\n",
        "rice_data_dir = os.path.join(drive_path, \"Soil Moisture.v1i.folder\")\n",
        "soil_data_dir = os.path.join(drive_path, \"soil_new\")\n",
        "\n",
        "# Define dataset paths\n",
        "train_data_dir = \"/content/drive/MyDrive/rice-disease-classification.v1i.folder/train\"\n",
        "valid_data_dir = \"/content/drive/MyDrive/rice-disease-classification.v1i.folder/valid\"\n",
        "test_data_dir = \"/content/drive/MyDrive/rice-disease-classification.v1i.folder/test\"\n",
        "\n",
        "# Check if dataset directories exist\n",
        "if not os.path.exists(train_data_dir) or not os.path.exists(valid_data_dir) or not os.path.exists(test_data_dir):\n",
        "    raise FileNotFoundError(\"Error: One or more dataset directories not found!\")\n",
        "\n",
        "# Define class names\n",
        "rice_classes = [\"blast\", \"blight\", \"healthy_rice_plant\", \"tungro\"]\n"
      ]
    },
    {
      "cell_type": "code",
      "execution_count": null,
      "metadata": {
        "colab": {
          "base_uri": "https://localhost:8080/"
        },
        "id": "toN3Gs1kPMDV",
        "outputId": "1f5e5208-5511-4642-9b7f-4e86d928d1eb"
      },
      "outputs": [
        {
          "output_type": "stream",
          "name": "stdout",
          "text": [
            "Found 2956 images belonging to 4 classes.\n",
            "Found 359 images belonging to 4 classes.\n",
            "✅ Dataset Loaded Successfully\n"
          ]
        }
      ],
      "source": [
        "\n",
        "# ✅ Verify Dataset Paths\n",
        "for path in [train_data_dir, valid_data_dir, test_data_dir]:\n",
        "    if not os.path.exists(path):\n",
        "        raise FileNotFoundError(f\"Error: Dataset directory '{path}' not found!\")\n",
        "\n",
        "# ✅ Define Image Augmentation\n",
        "datagen = ImageDataGenerator(\n",
        "    rotation_range=20,\n",
        "    width_shift_range=0.2,\n",
        "    height_shift_range=0.2,\n",
        "    horizontal_flip=True,\n",
        "    zoom_range=0.2,\n",
        "    shear_range=0.2,\n",
        "    fill_mode='nearest'\n",
        ")\n",
        "\n",
        "\n",
        "train_generator = datagen.flow_from_directory(train_data_dir, target_size=(128, 128), batch_size=16, class_mode=\"sparse\")\n",
        "val_generator = datagen.flow_from_directory(valid_data_dir, target_size=(128, 128), batch_size=16, class_mode=\"sparse\")\n",
        "\n",
        "print(\"✅ Dataset Loaded Successfully\")"
      ]
    },
    {
      "cell_type": "code",
      "execution_count": null,
      "metadata": {
        "colab": {
          "base_uri": "https://localhost:8080/"
        },
        "id": "etqGZ3FKPb_X",
        "outputId": "e714907a-015d-412f-e974-737af68422b8"
      },
      "outputs": [
        {
          "output_type": "stream",
          "name": "stdout",
          "text": [
            "✅ Data Converted to NumPy Arrays\n"
          ]
        }
      ],
      "source": [
        "# ✅ Convert ImageDataGenerator to NumPy Arrays\n",
        "def generator_to_numpy(generator):\n",
        "    images, labels = [], []\n",
        "    for i in range(len(generator)):\n",
        "        batch = generator[i]\n",
        "        images.append(batch[0])\n",
        "        labels.append(batch[1])\n",
        "    return np.concatenate(images), np.concatenate(labels)\n",
        "\n",
        "X_train_rice, y_train_rice = generator_to_numpy(train_generator)\n",
        "X_val_rice, y_val_rice = generator_to_numpy(val_generator)\n",
        "\n",
        "print(\"✅ Data Converted to NumPy Arrays\")\n"
      ]
    },
    {
      "cell_type": "code",
      "source": [
        "\n",
        "# ✅ Define Data Paths\n",
        "soil_data_dir = \"/content/drive/MyDrive/soil_new\"\n",
        "weather_file = os.path.join(soil_data_dir, \"03.Weather_Station_1_and_2\", \"Weather_Station_1.csv\")\n",
        "soil_file = os.path.join(soil_data_dir, \"02.Soil_Sensing_LoRa_Node_Farmer_3\", \"Soil_Sensing_LoRa_Node_Farmer_3_Corn.csv\")\n",
        "\n",
        "# ✅ Ensure Data Exists\n",
        "if not os.path.exists(weather_file):\n",
        "    raise FileNotFoundError(f\"Error: Weather data file '{weather_file}' not found!\")\n",
        "if not os.path.exists(soil_file):\n",
        "    raise FileNotFoundError(f\"Error: Soil data file '{soil_file}' not found!\")\n",
        "\n",
        "# ✅ Load Data\n",
        "weather_data = pd.read_csv(weather_file)\n",
        "soil_data = pd.read_csv(soil_file)\n",
        "\n",
        "# ✅ Convert Time Columns to Datetime Format\n",
        "weather_data['observation_time'] = pd.to_datetime(weather_data['observation_time']).dt.tz_localize(None)\n",
        "soil_data['time'] = pd.to_datetime(soil_data['time']).dt.tz_localize(None)\n",
        "\n",
        "# ✅ Define Feature Sets (Ensure They Match Column Names)\n",
        "weather_features = ['humidity', 'rain', 'temperature', 'wind_speed_mph']\n",
        "soil_features = ['soil_sensor1_temp', 'soil_sensor2_temp', 'soil_sensor1_conductivity',\n",
        "                 'soil_sensor2_conductivity', 'soil_sensor1_vwc', 'soil_sensor2_vwc']\n",
        "\n",
        "# ✅ Select Required Columns Only\n",
        "weather_data = weather_data[['observation_time'] + weather_features]\n",
        "soil_data = soil_data[['time'] + soil_features]\n",
        "\n",
        "# ✅ Merge Data (Handling Datetime Columns Correctly)\n",
        "merged_data = pd.merge_asof(\n",
        "    soil_data.sort_values(by=\"time\"),\n",
        "    weather_data.sort_values(by=\"observation_time\"),\n",
        "    left_on=\"time\",\n",
        "    right_on=\"observation_time\"\n",
        ").drop(columns=['observation_time', 'time'])  # Remove unneeded columns\n",
        "\n",
        "# ✅ Handle Missing Values\n",
        "imputer = SimpleImputer(strategy='mean')\n",
        "merged_data[weather_features + soil_features] = imputer.fit_transform(merged_data[weather_features + soil_features])\n",
        "\n",
        "# ✅ Apply MinMax Scaling (0 to 1) Instead of StandardScaler()\n",
        "scaler = MinMaxScaler()\n",
        "merged_data[weather_features + soil_features] = scaler.fit_transform(\n",
        "    merged_data[weather_features + soil_features]\n",
        ")\n",
        "\n",
        "# ✅ Print Confirmation & Check Data Sample\n",
        "print(\"✅ Data Successfully Processed\")\n",
        "print(\"🔍 Merged Data Sample:\")\n",
        "print(merged_data.head())\n",
        "\n",
        "# ✅ Check if Data is Normalized (All Values Should Be Between 0 & 1)\n",
        "print(\"\\n📊 Data Summary After Scaling:\")\n",
        "print(merged_data.describe())\n"
      ],
      "metadata": {
        "colab": {
          "base_uri": "https://localhost:8080/"
        },
        "id": "H58OulqiAnze",
        "outputId": "4d079ecd-8afd-4e98-827c-c05a1903f375"
      },
      "execution_count": null,
      "outputs": [
        {
          "output_type": "stream",
          "name": "stdout",
          "text": [
            "✅ Data Successfully Processed\n",
            "🔍 Merged Data Sample:\n",
            "   soil_sensor1_temp  soil_sensor2_temp  soil_sensor1_conductivity  \\\n",
            "0           0.002085           0.001600                   0.002354   \n",
            "1           0.002085           0.001616                   0.002354   \n",
            "2           0.002069           0.001632                   0.002354   \n",
            "3           0.002069           0.001632                   0.002339   \n",
            "4           0.002053           0.001649                   0.002339   \n",
            "\n",
            "   soil_sensor2_conductivity  soil_sensor1_vwc  soil_sensor2_vwc  humidity  \\\n",
            "0                   0.002828          0.393535          0.380709  0.698133   \n",
            "1                   0.002843          0.393535          0.380709  0.698133   \n",
            "2                   0.002828          0.393535          0.380709  0.698133   \n",
            "3                   0.002828          0.393535          0.380709  0.698133   \n",
            "4                   0.002828          0.393535          0.380709  0.698133   \n",
            "\n",
            "       rain  temperature  wind_speed_mph  \n",
            "0  0.003457     0.582038        0.249449  \n",
            "1  0.003457     0.582038        0.249449  \n",
            "2  0.003457     0.582038        0.249449  \n",
            "3  0.003457     0.582038        0.249449  \n",
            "4  0.003457     0.582038        0.249449  \n",
            "\n",
            "📊 Data Summary After Scaling:\n",
            "       soil_sensor1_temp  soil_sensor2_temp  soil_sensor1_conductivity  \\\n",
            "count        6281.000000        6281.000000                6281.000000   \n",
            "mean            0.004538           0.005324                   0.006826   \n",
            "std             0.034464           0.045975                   0.052527   \n",
            "min             0.000000           0.000000                   0.000000   \n",
            "25%             0.002214           0.002037                   0.002109   \n",
            "50%             0.003200           0.003119                   0.003256   \n",
            "75%             0.003524           0.003443                   0.004280   \n",
            "max             1.000000           1.000000                   1.000000   \n",
            "\n",
            "       soil_sensor2_conductivity  soil_sensor1_vwc  soil_sensor2_vwc  \\\n",
            "count                6281.000000       6281.000000       6281.000000   \n",
            "mean                    0.004389          0.394481          0.356416   \n",
            "std                     0.037959          0.029058          0.086290   \n",
            "min                     0.000000          0.000000          0.000000   \n",
            "25%                     0.001360          0.375354          0.344882   \n",
            "50%                     0.002858          0.401212          0.381102   \n",
            "75%                     0.003210          0.412525          0.392520   \n",
            "max                     1.000000          1.000000          1.000000   \n",
            "\n",
            "          humidity         rain  temperature  wind_speed_mph  \n",
            "count  6281.000000  6281.000000  6281.000000     6281.000000  \n",
            "mean      0.698133     0.003457     0.582038        0.249449  \n",
            "std       0.204708     0.030523     0.168147        0.151080  \n",
            "min       0.000000     0.000000     0.000000        0.000000  \n",
            "25%       0.602740     0.000000     0.516667        0.148148  \n",
            "50%       0.698133     0.000000     0.582038        0.249449  \n",
            "75%       0.863014     0.000000     0.683333        0.333333  \n",
            "max       1.000000     1.000000     1.000000        1.000000  \n"
          ]
        }
      ]
    },
    {
      "cell_type": "code",
      "source": [
        "print(\"Rice Image Labels Size:\", len(y_train_rice))\n",
        "print(\"Soil & Weather Data Size:\", len(merged_data))\n"
      ],
      "metadata": {
        "colab": {
          "base_uri": "https://localhost:8080/"
        },
        "id": "4KVpQvJxbu64",
        "outputId": "034d80e1-a687-43fb-cc1d-3054a21e465a"
      },
      "execution_count": null,
      "outputs": [
        {
          "output_type": "stream",
          "name": "stdout",
          "text": [
            "Rice Image Labels Size: 2956\n",
            "Soil & Weather Data Size: 6281\n"
          ]
        }
      ]
    },
    {
      "cell_type": "code",
      "source": [
        "merged_data = merged_data.iloc[:len(y_train_rice)]  # Keep only matching samples\n"
      ],
      "metadata": {
        "id": "AFxvNQz8bu9L"
      },
      "execution_count": null,
      "outputs": []
    },
    {
      "cell_type": "code",
      "source": [
        "print(\"✅ Data after alignment\")\n",
        "print(\"Rice Labels:\", len(y_train_rice))\n",
        "print(\"Soil & Weather Data:\", len(merged_data))\n"
      ],
      "metadata": {
        "colab": {
          "base_uri": "https://localhost:8080/"
        },
        "id": "ixft_iftbu_w",
        "outputId": "94a81c05-c0b7-437a-f867-b4f9c08ca905"
      },
      "execution_count": null,
      "outputs": [
        {
          "output_type": "stream",
          "name": "stdout",
          "text": [
            "✅ Data after alignment\n",
            "Rice Labels: 2956\n",
            "Soil & Weather Data: 2956\n"
          ]
        }
      ]
    },
    {
      "cell_type": "code",
      "source": [
        "X_soil_train, X_soil_val, y_train_soil, y_val_soil = train_test_split(\n",
        "    merged_data, y_train_rice, test_size=0.2, random_state=42, stratify=y_train_rice\n",
        ")\n"
      ],
      "metadata": {
        "id": "jfnrGT3obvCa"
      },
      "execution_count": null,
      "outputs": []
    },
    {
      "cell_type": "code",
      "source": [
        "# Define class labels\n",
        "rice_classes = [\"blast\", \"blight\", \"healthy_rice_plant\", \"tungro\"]\n",
        "\n",
        "# ✅ EfficientNetB0 Model for Image Feature Extraction\n",
        "image_input = Input(shape=(128, 128, 3))\n",
        "efficientnet = EfficientNetB0(include_top=False, weights=\"imagenet\", input_tensor=image_input)\n",
        "\n",
        "# Unfreeze deeper layers of EfficientNet for fine-tuning\n",
        "efficientnet.trainable = True  # Allow training on EfficientNet's deeper layers\n",
        "\n",
        "x = GlobalAveragePooling2D()(efficientnet.output)\n",
        "x = Dense(512, activation='relu', kernel_regularizer=l2(0.001))(x)  # Increased neurons\n",
        "x = BatchNormalization()(x)\n",
        "x = Dropout(0.4)(x)\n",
        "x = Dense(256, activation='relu', kernel_regularizer=l2(0.001))(x)\n",
        "x = BatchNormalization()(x)\n",
        "x = Dropout(0.3)(x)\n",
        "x = Dense(128, activation='relu', kernel_regularizer=l2(0.001))(x)\n",
        "x = BatchNormalization()(x)\n",
        "x = Dropout(0.3)(x)\n",
        "\n",
        "\n",
        "\n",
        "# ✅ Soil & Weather Data Model\n",
        "soil_input = Input(shape=(X_soil_train.shape[1],))\n",
        "y = Dense(256, activation='relu', kernel_regularizer=l2(0.001))(soil_input)  # Increased neurons\n",
        "y = BatchNormalization()(y)\n",
        "y = Dropout(0.4)(y)\n",
        "y = Dense(128, activation='relu', kernel_regularizer=l2(0.001))(y)\n",
        "y = BatchNormalization()(y)\n",
        "y = Dropout(0.3)(y)\n",
        "y = Dense(64, activation='relu', kernel_regularizer=l2(0.001))(y)\n",
        "y = BatchNormalization()(y)\n",
        "y = Dropout(0.3)(y)\n",
        "\n",
        "# ✅ Merge Image & Soil Models\n",
        "merged = Concatenate()([x, y])\n",
        "merged = Dense(256, activation='relu', kernel_regularizer=l2(0.001))(merged)\n",
        "merged = BatchNormalization()(merged)\n",
        "merged = Dropout(0.4)(merged)\n",
        "merged = Dense(128, activation='relu', kernel_regularizer=l2(0.001))(merged)\n",
        "merged = BatchNormalization()(merged)\n",
        "merged = Dropout(0.3)(merged)\n",
        "output = Dense(len(rice_classes), activation='softmax')(merged)\n",
        "\n",
        "# ✅ Compile Model with Lower Learning Rate\n",
        "model = Model(inputs=[image_input, soil_input], outputs=output)\n",
        "model.compile(optimizer=Adam(learning_rate=0.0005), loss='sparse_categorical_crossentropy', metrics=['accuracy'])\n"
      ],
      "metadata": {
        "id": "KZ1MXEwaHESi",
        "colab": {
          "base_uri": "https://localhost:8080/"
        },
        "outputId": "36ed6dc5-fb8e-4cbe-a196-3343df576a5e"
      },
      "execution_count": null,
      "outputs": [
        {
          "output_type": "stream",
          "name": "stdout",
          "text": [
            "Downloading data from https://storage.googleapis.com/keras-applications/efficientnetb0_notop.h5\n",
            "\u001b[1m16705208/16705208\u001b[0m \u001b[32m━━━━━━━━━━━━━━━━━━━━\u001b[0m\u001b[37m\u001b[0m \u001b[1m2s\u001b[0m 0us/step\n"
          ]
        }
      ]
    },
    {
      "cell_type": "code",
      "source": [
        "print(\"X_train_rice shape:\", X_train_rice.shape)\n",
        "print(\"X_soil_train shape:\", X_soil_train.shape)\n",
        "print(\"y_train_rice shape:\", y_train_rice.shape)\n",
        "\n",
        "print(\"X_val_rice shape:\", X_val_rice.shape)\n",
        "print(\"X_soil_val shape:\", X_soil_val.shape)\n",
        "print(\"y_val_rice shape:\", y_val_rice.shape)\n"
      ],
      "metadata": {
        "colab": {
          "base_uri": "https://localhost:8080/"
        },
        "id": "r9Pj5cmfcWk4",
        "outputId": "8f26c499-5956-495b-cb27-6f09fd333358"
      },
      "execution_count": null,
      "outputs": [
        {
          "output_type": "stream",
          "name": "stdout",
          "text": [
            "X_train_rice shape: (2956, 128, 128, 3)\n",
            "X_soil_train shape: (2364, 10)\n",
            "y_train_rice shape: (2956,)\n",
            "X_val_rice shape: (359, 128, 128, 3)\n",
            "X_soil_val shape: (592, 10)\n",
            "y_val_rice shape: (359,)\n"
          ]
        }
      ]
    },
    {
      "cell_type": "code",
      "source": [
        "# Ensure both inputs have the same number of samples\n",
        "min_samples = min(len(X_train_rice), len(X_soil_train))\n",
        "\n",
        "X_train_rice = X_train_rice[:min_samples]\n",
        "X_soil_train = X_soil_train[:min_samples]\n",
        "y_train_rice = y_train_rice[:min_samples]\n",
        "\n",
        "# Do the same for validation sets\n",
        "min_samples_val = min(len(X_val_rice), len(X_soil_val))\n",
        "\n",
        "X_val_rice = X_val_rice[:min_samples_val]\n",
        "X_soil_val = X_soil_val[:min_samples_val]\n",
        "y_val_rice = y_val_rice[:min_samples_val]\n"
      ],
      "metadata": {
        "id": "ho3IRWRtcWni"
      },
      "execution_count": null,
      "outputs": []
    },
    {
      "cell_type": "code",
      "source": [
        "print(\"After fixing:\")\n",
        "print(\"X_train_rice shape:\", X_train_rice.shape)\n",
        "print(\"X_soil_train shape:\", X_soil_train.shape)\n",
        "print(\"y_train_rice shape:\", y_train_rice.shape)\n"
      ],
      "metadata": {
        "colab": {
          "base_uri": "https://localhost:8080/"
        },
        "id": "yjvkptFpcbST",
        "outputId": "cf205930-7e16-4d4b-889d-aa325051da53"
      },
      "execution_count": null,
      "outputs": [
        {
          "output_type": "stream",
          "name": "stdout",
          "text": [
            "After fixing:\n",
            "X_train_rice shape: (2364, 128, 128, 3)\n",
            "X_soil_train shape: (2364, 10)\n",
            "y_train_rice shape: (2364,)\n"
          ]
        }
      ]
    },
    {
      "cell_type": "code",
      "source": [
        "# ✅ Define Callbacks\n",
        "early_stopping = EarlyStopping(monitor='val_loss', patience=5, restore_best_weights=True)\n",
        "reduce_lr = ReduceLROnPlateau(monitor='val_loss', factor=0.3, patience=3, min_lr=1e-6)\n",
        "\n",
        "# ✅ Train Model with Callbacks\n",
        "history = model.fit(\n",
        "    [X_train_rice, X_soil_train], y_train_rice,\n",
        "    validation_data=([X_val_rice, X_soil_val], y_val_rice),\n",
        "    epochs=30,\n",
        "    batch_size=16,\n",
        "    callbacks=[early_stopping, reduce_lr]\n",
        ")\n",
        "\n",
        "print(\"✅ Model Training Completed!\")\n"
      ],
      "metadata": {
        "colab": {
          "base_uri": "https://localhost:8080/"
        },
        "id": "i0loOKyDKNh7",
        "outputId": "cb8e06ff-6994-43dc-9827-8455b2e71fef"
      },
      "execution_count": null,
      "outputs": [
        {
          "output_type": "stream",
          "name": "stdout",
          "text": [
            "Epoch 1/30\n",
            "\u001b[1m148/148\u001b[0m \u001b[32m━━━━━━━━━━━━━━━━━━━━\u001b[0m\u001b[37m\u001b[0m \u001b[1m157s\u001b[0m 423ms/step - accuracy: 0.3385 - loss: 3.6803 - val_accuracy: 0.7716 - val_loss: 2.3986 - learning_rate: 5.0000e-04\n",
            "Epoch 2/30\n",
            "\u001b[1m148/148\u001b[0m \u001b[32m━━━━━━━━━━━━━━━━━━━━\u001b[0m\u001b[37m\u001b[0m \u001b[1m6s\u001b[0m 37ms/step - accuracy: 0.7309 - loss: 2.5802 - val_accuracy: 0.9164 - val_loss: 2.0572 - learning_rate: 5.0000e-04\n",
            "Epoch 3/30\n",
            "\u001b[1m148/148\u001b[0m \u001b[32m━━━━━━━━━━━━━━━━━━━━\u001b[0m\u001b[37m\u001b[0m \u001b[1m11s\u001b[0m 40ms/step - accuracy: 0.8821 - loss: 2.1893 - val_accuracy: 0.9638 - val_loss: 1.9282 - learning_rate: 5.0000e-04\n",
            "Epoch 4/30\n",
            "\u001b[1m148/148\u001b[0m \u001b[32m━━━━━━━━━━━━━━━━━━━━\u001b[0m\u001b[37m\u001b[0m \u001b[1m5s\u001b[0m 36ms/step - accuracy: 0.9250 - loss: 2.0932 - val_accuracy: 0.9805 - val_loss: 1.8640 - learning_rate: 5.0000e-04\n",
            "Epoch 5/30\n",
            "\u001b[1m148/148\u001b[0m \u001b[32m━━━━━━━━━━━━━━━━━━━━\u001b[0m\u001b[37m\u001b[0m \u001b[1m11s\u001b[0m 41ms/step - accuracy: 0.9277 - loss: 2.0176 - val_accuracy: 0.9972 - val_loss: 1.8048 - learning_rate: 5.0000e-04\n",
            "Epoch 6/30\n",
            "\u001b[1m148/148\u001b[0m \u001b[32m━━━━━━━━━━━━━━━━━━━━\u001b[0m\u001b[37m\u001b[0m \u001b[1m10s\u001b[0m 38ms/step - accuracy: 0.9481 - loss: 1.9504 - val_accuracy: 0.9833 - val_loss: 1.7838 - learning_rate: 5.0000e-04\n",
            "Epoch 7/30\n",
            "\u001b[1m148/148\u001b[0m \u001b[32m━━━━━━━━━━━━━━━━━━━━\u001b[0m\u001b[37m\u001b[0m \u001b[1m11s\u001b[0m 41ms/step - accuracy: 0.9543 - loss: 1.8975 - val_accuracy: 0.9861 - val_loss: 1.7587 - learning_rate: 5.0000e-04\n",
            "Epoch 8/30\n",
            "\u001b[1m148/148\u001b[0m \u001b[32m━━━━━━━━━━━━━━━━━━━━\u001b[0m\u001b[37m\u001b[0m \u001b[1m10s\u001b[0m 41ms/step - accuracy: 0.9621 - loss: 1.8347 - val_accuracy: 0.9916 - val_loss: 1.7042 - learning_rate: 5.0000e-04\n",
            "Epoch 9/30\n",
            "\u001b[1m148/148\u001b[0m \u001b[32m━━━━━━━━━━━━━━━━━━━━\u001b[0m\u001b[37m\u001b[0m \u001b[1m6s\u001b[0m 38ms/step - accuracy: 0.9544 - loss: 1.7989 - val_accuracy: 0.9889 - val_loss: 1.6743 - learning_rate: 5.0000e-04\n",
            "Epoch 10/30\n",
            "\u001b[1m148/148\u001b[0m \u001b[32m━━━━━━━━━━━━━━━━━━━━\u001b[0m\u001b[37m\u001b[0m \u001b[1m5s\u001b[0m 36ms/step - accuracy: 0.9620 - loss: 1.7589 - val_accuracy: 0.9944 - val_loss: 1.6132 - learning_rate: 5.0000e-04\n",
            "Epoch 11/30\n",
            "\u001b[1m148/148\u001b[0m \u001b[32m━━━━━━━━━━━━━━━━━━━━\u001b[0m\u001b[37m\u001b[0m \u001b[1m10s\u001b[0m 37ms/step - accuracy: 0.9458 - loss: 1.7280 - val_accuracy: 1.0000 - val_loss: 1.5623 - learning_rate: 5.0000e-04\n",
            "Epoch 12/30\n",
            "\u001b[1m148/148\u001b[0m \u001b[32m━━━━━━━━━━━━━━━━━━━━\u001b[0m\u001b[37m\u001b[0m \u001b[1m10s\u001b[0m 37ms/step - accuracy: 0.9498 - loss: 1.6878 - val_accuracy: 0.9944 - val_loss: 1.5452 - learning_rate: 5.0000e-04\n",
            "Epoch 13/30\n",
            "\u001b[1m148/148\u001b[0m \u001b[32m━━━━━━━━━━━━━━━━━━━━\u001b[0m\u001b[37m\u001b[0m \u001b[1m10s\u001b[0m 38ms/step - accuracy: 0.9594 - loss: 1.6332 - val_accuracy: 0.9889 - val_loss: 1.4878 - learning_rate: 5.0000e-04\n",
            "Epoch 14/30\n",
            "\u001b[1m148/148\u001b[0m \u001b[32m━━━━━━━━━━━━━━━━━━━━\u001b[0m\u001b[37m\u001b[0m \u001b[1m10s\u001b[0m 40ms/step - accuracy: 0.9514 - loss: 1.6017 - val_accuracy: 0.9972 - val_loss: 1.4226 - learning_rate: 5.0000e-04\n",
            "Epoch 15/30\n",
            "\u001b[1m148/148\u001b[0m \u001b[32m━━━━━━━━━━━━━━━━━━━━\u001b[0m\u001b[37m\u001b[0m \u001b[1m5s\u001b[0m 36ms/step - accuracy: 0.9663 - loss: 1.5067 - val_accuracy: 0.9972 - val_loss: 1.3716 - learning_rate: 5.0000e-04\n",
            "Epoch 16/30\n",
            "\u001b[1m148/148\u001b[0m \u001b[32m━━━━━━━━━━━━━━━━━━━━\u001b[0m\u001b[37m\u001b[0m \u001b[1m10s\u001b[0m 37ms/step - accuracy: 0.9666 - loss: 1.4551 - val_accuracy: 0.9972 - val_loss: 1.3196 - learning_rate: 5.0000e-04\n",
            "Epoch 17/30\n",
            "\u001b[1m148/148\u001b[0m \u001b[32m━━━━━━━━━━━━━━━━━━━━\u001b[0m\u001b[37m\u001b[0m \u001b[1m6s\u001b[0m 38ms/step - accuracy: 0.9621 - loss: 1.4031 - val_accuracy: 0.9972 - val_loss: 1.2675 - learning_rate: 5.0000e-04\n",
            "Epoch 18/30\n",
            "\u001b[1m148/148\u001b[0m \u001b[32m━━━━━━━━━━━━━━━━━━━━\u001b[0m\u001b[37m\u001b[0m \u001b[1m10s\u001b[0m 37ms/step - accuracy: 0.9709 - loss: 1.3312 - val_accuracy: 0.9972 - val_loss: 1.2155 - learning_rate: 5.0000e-04\n",
            "Epoch 19/30\n",
            "\u001b[1m148/148\u001b[0m \u001b[32m━━━━━━━━━━━━━━━━━━━━\u001b[0m\u001b[37m\u001b[0m \u001b[1m10s\u001b[0m 37ms/step - accuracy: 0.9762 - loss: 1.2752 - val_accuracy: 0.9944 - val_loss: 1.1601 - learning_rate: 5.0000e-04\n",
            "Epoch 20/30\n",
            "\u001b[1m148/148\u001b[0m \u001b[32m━━━━━━━━━━━━━━━━━━━━\u001b[0m\u001b[37m\u001b[0m \u001b[1m6s\u001b[0m 39ms/step - accuracy: 0.9804 - loss: 1.2032 - val_accuracy: 1.0000 - val_loss: 1.1050 - learning_rate: 5.0000e-04\n",
            "Epoch 21/30\n",
            "\u001b[1m148/148\u001b[0m \u001b[32m━━━━━━━━━━━━━━━━━━━━\u001b[0m\u001b[37m\u001b[0m \u001b[1m10s\u001b[0m 37ms/step - accuracy: 0.9671 - loss: 1.2046 - val_accuracy: 1.0000 - val_loss: 1.0594 - learning_rate: 5.0000e-04\n",
            "Epoch 22/30\n",
            "\u001b[1m148/148\u001b[0m \u001b[32m━━━━━━━━━━━━━━━━━━━━\u001b[0m\u001b[37m\u001b[0m \u001b[1m11s\u001b[0m 40ms/step - accuracy: 0.9810 - loss: 1.0858 - val_accuracy: 0.9944 - val_loss: 1.0145 - learning_rate: 5.0000e-04\n",
            "Epoch 23/30\n",
            "\u001b[1m148/148\u001b[0m \u001b[32m━━━━━━━━━━━━━━━━━━━━\u001b[0m\u001b[37m\u001b[0m \u001b[1m10s\u001b[0m 37ms/step - accuracy: 0.9711 - loss: 1.0760 - val_accuracy: 1.0000 - val_loss: 0.9505 - learning_rate: 5.0000e-04\n",
            "Epoch 24/30\n",
            "\u001b[1m148/148\u001b[0m \u001b[32m━━━━━━━━━━━━━━━━━━━━\u001b[0m\u001b[37m\u001b[0m \u001b[1m6s\u001b[0m 38ms/step - accuracy: 0.9754 - loss: 1.0258 - val_accuracy: 0.9972 - val_loss: 0.9056 - learning_rate: 5.0000e-04\n",
            "Epoch 25/30\n",
            "\u001b[1m148/148\u001b[0m \u001b[32m━━━━━━━━━━━━━━━━━━━━\u001b[0m\u001b[37m\u001b[0m \u001b[1m10s\u001b[0m 37ms/step - accuracy: 0.9707 - loss: 0.9700 - val_accuracy: 0.9972 - val_loss: 0.8817 - learning_rate: 5.0000e-04\n",
            "Epoch 26/30\n",
            "\u001b[1m148/148\u001b[0m \u001b[32m━━━━━━━━━━━━━━━━━━━━\u001b[0m\u001b[37m\u001b[0m \u001b[1m10s\u001b[0m 37ms/step - accuracy: 0.9783 - loss: 0.9106 - val_accuracy: 0.9972 - val_loss: 0.8062 - learning_rate: 5.0000e-04\n",
            "Epoch 27/30\n",
            "\u001b[1m148/148\u001b[0m \u001b[32m━━━━━━━━━━━━━━━━━━━━\u001b[0m\u001b[37m\u001b[0m \u001b[1m6s\u001b[0m 40ms/step - accuracy: 0.9855 - loss: 0.8412 - val_accuracy: 0.9889 - val_loss: 0.7961 - learning_rate: 5.0000e-04\n",
            "Epoch 28/30\n",
            "\u001b[1m148/148\u001b[0m \u001b[32m━━━━━━━━━━━━━━━━━━━━\u001b[0m\u001b[37m\u001b[0m \u001b[1m10s\u001b[0m 37ms/step - accuracy: 0.9711 - loss: 0.8404 - val_accuracy: 0.9972 - val_loss: 0.7235 - learning_rate: 5.0000e-04\n",
            "Epoch 29/30\n",
            "\u001b[1m148/148\u001b[0m \u001b[32m━━━━━━━━━━━━━━━━━━━━\u001b[0m\u001b[37m\u001b[0m \u001b[1m10s\u001b[0m 37ms/step - accuracy: 0.9695 - loss: 0.7881 - val_accuracy: 0.9916 - val_loss: 0.6912 - learning_rate: 5.0000e-04\n",
            "Epoch 30/30\n",
            "\u001b[1m148/148\u001b[0m \u001b[32m━━━━━━━━━━━━━━━━━━━━\u001b[0m\u001b[37m\u001b[0m \u001b[1m6s\u001b[0m 40ms/step - accuracy: 0.9764 - loss: 0.7395 - val_accuracy: 0.9861 - val_loss: 0.6622 - learning_rate: 5.0000e-04\n",
            "✅ Model Training Completed!\n"
          ]
        }
      ]
    },
    {
      "cell_type": "code",
      "source": [
        "\n",
        "# ✅ Define Dataset Paths\n",
        "drive_path = \"/content/drive/MyDrive\"\n",
        "test_data_dir = os.path.join(drive_path, \"rice-disease-classification.v1i.folder/test\")\n",
        "\n",
        "# ✅ Check If Test Dataset Exists\n",
        "if not os.path.exists(test_data_dir):\n",
        "    raise FileNotFoundError(f\"Error: Test dataset directory '{test_data_dir}' not found!\")\n",
        "\n",
        "# ✅ Function to Select a Random Image from a Random Class\n",
        "def find_random_image_balanced(root_folder):\n",
        "    class_folders = [d for d in os.listdir(root_folder) if os.path.isdir(os.path.join(root_folder, d))]\n",
        "\n",
        "    if not class_folders:\n",
        "        raise FileNotFoundError(\"No class folders found in the dataset!\")\n",
        "\n",
        "    selected_class = random.choice(class_folders)\n",
        "    class_path = os.path.join(root_folder, selected_class)\n",
        "\n",
        "    image_paths = [os.path.join(class_path, f) for f in os.listdir(class_path)\n",
        "                   if f.lower().endswith((\".jpg\", \".jpeg\", \".png\", \".bmp\", \".tiff\"))]\n",
        "\n",
        "    if not image_paths:\n",
        "        raise FileNotFoundError(f\"No images found in the selected class: {selected_class}\")\n",
        "\n",
        "    selected_image = random.choice(image_paths)\n",
        "    return selected_image, selected_class\n",
        "\n",
        "# ✅ Select a Test Image Using Balanced Sampling\n",
        "test_image_path, selected_class = find_random_image_balanced(test_data_dir)\n",
        "\n",
        "if test_image_path:\n",
        "    print(f\"Selected Test Image: {test_image_path} (Class: {selected_class})\")\n",
        "else:\n",
        "    raise FileNotFoundError(\"No images found in the dataset!\")\n",
        "\n",
        "# ✅ Load Corresponding Soil & Weather Data\n",
        "if 'merged_data' in globals():\n",
        "    selected_index = random.randint(0, len(merged_data) - 1)\n",
        "    sample_soil_data = merged_data.iloc[selected_index]\n",
        "    print(\"Correctly Mapped Soil & Weather Data Loaded\")\n",
        "else:\n",
        "    raise NameError(\"Error: 'merged_data' not defined. Ensure soil & weather data is loaded.\")\n",
        "\n",
        "# ✅ Function to Preprocess Image (Ensuring Consistency with Training)\n",
        "def preprocess_image(image_path):\n",
        "    img = image.load_img(image_path, target_size=(128, 128))\n",
        "    img_array = image.img_to_array(img) / 255.0\n",
        "    img_array = np.expand_dims(img_array, axis=0)\n",
        "    return img_array"
      ],
      "metadata": {
        "colab": {
          "base_uri": "https://localhost:8080/"
        },
        "id": "m6-sVADBZpHl",
        "outputId": "3123aa21-949f-4d09-ce0a-e498f623ee3d"
      },
      "execution_count": null,
      "outputs": [
        {
          "output_type": "stream",
          "name": "stdout",
          "text": [
            "Selected Test Image: /content/drive/MyDrive/rice-disease-classification.v1i.folder/test/blast/BLAST8_127_JPG.rf.c1dfeddb6fdb5c6ba70a815520c1ae2b.jpg (Class: blast)\n",
            "Correctly Mapped Soil & Weather Data Loaded\n"
          ]
        }
      ]
    },
    {
      "cell_type": "code",
      "source": [
        "# ✅ Risk Assessment Function\n",
        "def risk_alert(sensor_data, disease_prediction):\n",
        "    disease_classes = [\"Blast\", \"Blight\", \"Healthy\", \"Tungro\"]\n",
        "    predicted_disease = disease_classes[disease_prediction]\n",
        "\n",
        "    # Extract soil and weather conditions\n",
        "    moisture_level = sensor_data['soil_sensor1_vwc']\n",
        "    soil_temp = sensor_data['soil_sensor1_temp']\n",
        "    conductivity = sensor_data['soil_sensor1_conductivity']\n",
        "    air_temp = sensor_data['temperature']\n",
        "    humidity = sensor_data['humidity']\n",
        "    wind_speed = sensor_data['wind_speed_mph']\n",
        "\n",
        "    # ✅ Multi-Condition Risk Assessment\n",
        "    if moisture_level > 0.8 and predicted_disease in [\"Blast\", \"Blight\"]:\n",
        "        return f\"High Risk: {predicted_disease} detected! Wet soil increases fungal infection risk.\"\n",
        "\n",
        "    elif air_temp > 35 and predicted_disease == \"Tungro\":\n",
        "        return f\"Warning: {predicted_disease} detected! High temperatures increase virus transmission risk.\"\n",
        "\n",
        "    elif wind_speed > 20 and predicted_disease in [\"Blast\", \"Blight\"]:\n",
        "        return f\"Caution: {predicted_disease} detected! High wind speeds may spread disease faster.\"\n",
        "\n",
        "    elif conductivity < 0.2:\n",
        "        return f\"Moderate Risk: {predicted_disease} detected! Low soil conductivity may affect plant growth.\"\n",
        "\n",
        "    elif humidity > 85:\n",
        "        return f\"High Risk: {predicted_disease} detected! High humidity creates a favorable environment for disease spread.\"\n",
        "\n",
        "    else:\n",
        "        return \"Stable Condition.\"\n"
      ],
      "metadata": {
        "id": "h08w9eFtZTCe"
      },
      "execution_count": null,
      "outputs": []
    },
    {
      "cell_type": "code",
      "source": [
        "\n",
        "# ✅ Function to Predict Disease\n",
        "def predict_disease(image_path, soil_data):\n",
        "    # Load and preprocess the test image\n",
        "    img_array = preprocess_image(image_path)\n",
        "\n",
        "    # Extract true label from filename\n",
        "    true_label = image_path.split(\"/\")[-2]\n",
        "\n",
        "    # Make prediction\n",
        "    predictions = model.predict([img_array, soil_data.values.reshape(1, -1)])\n",
        "    predicted_label_index = np.argmax(predictions)\n",
        "    predicted_label = rice_classes[predicted_label_index]\n",
        "\n",
        "    # Compare True vs. Predicted Label\n",
        "    print(f\"True Label: {true_label}\")\n",
        "    print(f\"Predicted Label: {predicted_label}\")\n",
        "\n",
        "    if true_label.lower() != predicted_label.lower():\n",
        "        print(\"Warning: Model misclassified this image!\")\n",
        "    else:\n",
        "        print(\"Prediction matches actual label.\")\n",
        "\n",
        "    # Print soil/weather details\n",
        "    print(\"\\nSoil & Weather Condition Details:\")\n",
        "    print(f\"Soil Moisture: {soil_data['soil_sensor1_vwc']:.2f}\")\n",
        "    print(f\"Soil Temperature: {soil_data['soil_sensor1_temp']:.2f}°C\")\n",
        "    print(f\"Soil Conductivity: {soil_data['soil_sensor1_conductivity']:.2f}\")\n",
        "    print(f\"Humidity: {soil_data['humidity']:.2f}%\")\n",
        "    print(f\"Wind Speed: {soil_data['wind_speed_mph']:.2f} mph\")\n",
        "    print(f\"Air Temperature: {soil_data['temperature']:.2f}°C\")\n",
        "\n",
        "    # Get risk assessment inside the function\n",
        "    risk_message = risk_alert(soil_data, predicted_label_index)\n",
        "    print(\"\\nRisk Assessment:\")\n",
        "    print(risk_message)\n",
        "\n",
        "    return predicted_label, risk_message\n",
        "\n",
        "# ✅ Call the Function\n",
        "predicted_label, risk_message = predict_disease(test_image_path, sample_soil_data)\n",
        "\n",
        "# ✅ Compute Predictions on Validation Data\n",
        "y_pred_prob = model.predict([X_val_rice, X_soil_val])\n",
        "y_pred = np.argmax(y_pred_prob, axis=1)\n",
        "\n"
      ],
      "metadata": {
        "colab": {
          "base_uri": "https://localhost:8080/"
        },
        "id": "eRZmQKeCZVnl",
        "outputId": "42fec8f4-cbfa-47b2-960c-5d2cb1afce8d"
      },
      "execution_count": null,
      "outputs": [
        {
          "output_type": "stream",
          "name": "stdout",
          "text": [
            "\u001b[1m1/1\u001b[0m \u001b[32m━━━━━━━━━━━━━━━━━━━━\u001b[0m\u001b[37m\u001b[0m \u001b[1m0s\u001b[0m 64ms/step\n",
            "True Label: blast\n",
            "Predicted Label: blast\n",
            "Prediction matches actual label.\n",
            "\n",
            "Soil & Weather Condition Details:\n",
            "Soil Moisture: 0.39\n",
            "Soil Temperature: 0.00°C\n",
            "Soil Conductivity: 0.00\n",
            "Humidity: 0.64%\n",
            "Wind Speed: 0.26 mph\n",
            "Air Temperature: 0.65°C\n",
            "\n",
            "Risk Assessment:\n",
            "Moderate Risk: Blast detected! Low soil conductivity may affect plant growth.\n",
            "\u001b[1m12/12\u001b[0m \u001b[32m━━━━━━━━━━━━━━━━━━━━\u001b[0m\u001b[37m\u001b[0m \u001b[1m0s\u001b[0m 22ms/step\n"
          ]
        }
      ]
    },
    {
      "cell_type": "code",
      "source": [
        "import numpy as np\n",
        "import matplotlib.pyplot as plt\n",
        "import seaborn as sns\n",
        "from sklearn.utils.class_weight import compute_class_weight\n",
        "from scipy.stats import mode\n",
        "from sklearn.metrics import classification_report, confusion_matrix\n",
        "from google.colab import files\n",
        "\n",
        "# ✅ Compute Class Weights to Handle Imbalance\n",
        "class_weights = compute_class_weight(\"balanced\", classes=np.unique(train_generator.classes), y=train_generator.classes)\n",
        "class_weights_dict = {i: class_weights[i] for i in range(len(class_weights))}\n",
        "\n",
        "# ✅ Make Predictions Using Model\n",
        "y_pred_prob = model.predict([X_val_rice, X_soil_val])\n",
        "\n",
        "# ✅ Apply a Softmax Threshold for More Confident Predictions\n",
        "threshold = 0.6  # Adjust for better classification\n",
        "y_pred = np.where(y_pred_prob.max(axis=1) > threshold, np.argmax(y_pred_prob, axis=1), -1)\n",
        "\n",
        "# ✅ Compute mode safely to avoid IndexError\n",
        "most_common_class = mode(y_train_rice, keepdims=True).mode\n",
        "most_common_class = most_common_class[0] if isinstance(most_common_class, np.ndarray) else most_common_class\n",
        "\n",
        "# ✅ Replace -1 (low-confidence predictions) with the most common class\n",
        "y_pred = np.where(y_pred == -1, most_common_class, y_pred)\n",
        "\n",
        "# ✅ Print Improved Classification Report\n",
        "print(\"\\n📊 Improved Classification Report:\\n\")\n",
        "print(classification_report(y_val_rice, y_pred, target_names=rice_classes))\n",
        "\n",
        "# ✅ Generate & Display Confusion Matrix with Balanced Weights\n",
        "plt.figure(figsize=(8, 6))\n",
        "conf_matrix = confusion_matrix(y_val_rice, y_pred)\n",
        "sns.heatmap(conf_matrix, annot=True, fmt=\"d\", cmap=\"Blues\", xticklabels=rice_classes, yticklabels=rice_classes)\n",
        "plt.xlabel(\"Predicted Labels\")\n",
        "plt.ylabel(\"True Labels\")\n",
        "plt.title(\"Confusion Matrix with Balanced Weights\")\n",
        "\n",
        "# ✅ Save Confusion Matrix Correctly Before Downloading\n",
        "confusion_matrix_path = \"confusion_matrix.png\"\n",
        "plt.savefig(confusion_matrix_path, dpi=300, bbox_inches=\"tight\", facecolor=\"white\")\n",
        "plt.show()\n",
        "\n",
        "# ✅ Ensure File Exists Before Downloading\n",
        "files.download(confusion_matrix_path)\n"
      ],
      "metadata": {
        "id": "8kiN2O_Fm7Qs",
        "outputId": "20dca3d8-3e6c-46df-d925-a73108c6414c",
        "colab": {
          "base_uri": "https://localhost:8080/",
          "height": 824
        }
      },
      "execution_count": null,
      "outputs": [
        {
          "output_type": "stream",
          "name": "stdout",
          "text": [
            "\u001b[1m12/12\u001b[0m \u001b[32m━━━━━━━━━━━━━━━━━━━━\u001b[0m\u001b[37m\u001b[0m \u001b[1m0s\u001b[0m 28ms/step\n",
            "\n",
            "📊 Improved Classification Report:\n",
            "\n",
            "                    precision    recall  f1-score   support\n",
            "\n",
            "             blast       0.95      1.00      0.98       105\n",
            "            blight       1.00      0.96      0.98       133\n",
            "healthy_rice_plant       1.00      1.00      1.00        10\n",
            "            tungro       1.00      1.00      1.00       111\n",
            "\n",
            "          accuracy                           0.99       359\n",
            "         macro avg       0.99      0.99      0.99       359\n",
            "      weighted avg       0.99      0.99      0.99       359\n",
            "\n"
          ]
        },
        {
          "output_type": "display_data",
          "data": {
            "text/plain": [
              "<Figure size 800x600 with 2 Axes>"
            ],
            "image/png": "[encoded data removed]"
          },
          "metadata": {}
        },
        {
          "output_type": "display_data",
          "data": {
            "text/plain": [
              "<IPython.core.display.Javascript object>"
            ],
            "application/javascript": [
              "\n",
              "    async function download(id, filename, size) {\n",
              "      if (!google.colab.kernel.accessAllowed) {\n",
              "        return;\n",
              "      }\n",
              "      const div = document.createElement('div');\n",
              "      const label = document.createElement('label');\n",
              "      label.textContent = `Downloading \"${filename}\": `;\n",
              "      div.appendChild(label);\n",
              "      const progress = document.createElement('progress');\n",
              "      progress.max = size;\n",
              "      div.appendChild(progress);\n",
              "      document.body.appendChild(div);\n",
              "\n",
              "      const buffers = [];\n",
              "      let downloaded = 0;\n",
              "\n",
              "      const channel = await google.colab.kernel.comms.open(id);\n",
              "      // Send a message to notify the kernel that we're ready.\n",
              "      channel.send({})\n",
              "\n",
              "      for await (const message of channel.messages) {\n",
              "        // Send a message to notify the kernel that we're ready.\n",
              "        channel.send({})\n",
              "        if (message.buffers) {\n",
              "          for (const buffer of message.buffers) {\n",
              "            buffers.push(buffer);\n",
              "            downloaded += buffer.byteLength;\n",
              "            progress.value = downloaded;\n",
              "          }\n",
              "        }\n",
              "      }\n",
              "      const blob = new Blob(buffers, {type: 'application/binary'});\n",
              "      const a = document.createElement('a');\n",
              "      a.href = window.URL.createObjectURL(blob);\n",
              "      a.download = filename;\n",
              "      div.appendChild(a);\n",
              "      a.click();\n",
              "      div.remove();\n",
              "    }\n",
              "  "
            ]
          },
          "metadata": {}
        },
        {
          "output_type": "display_data",
          "data": {
            "text/plain": [
              "<IPython.core.display.Javascript object>"
            ],
            "application/javascript": [
              "download(\"download_5254c4f7-af8a-4d46-82e0-9b417cf11b28\", \"confusion_matrix.png\", 111320)"
            ]
          },
          "metadata": {}
        }
      ]
    },
    {
      "cell_type": "code",
      "source": [
        "import matplotlib.pyplot as plt\n",
        "\n",
        "def plot_training_loss(history, save_path=\"training_loss.png\"):\n",
        "    \"\"\"Function to plot and save training loss.\"\"\"\n",
        "\n",
        "    epochs = range(1, len(history.history['loss']) + 1)\n",
        "\n",
        "    plt.figure(figsize=(7, 5))\n",
        "    plt.plot(epochs, history.history['loss'], label='Training Loss', marker='o', linestyle='--')\n",
        "    plt.plot(epochs, history.history['val_loss'], label='Validation Loss', marker='o', linestyle='-')\n",
        "    plt.xlabel('Epochs')\n",
        "    plt.ylabel('Loss')\n",
        "    plt.title('Model Training Progress: Loss')\n",
        "    plt.legend()\n",
        "    plt.grid()\n",
        "\n",
        "    # Save the plot\n",
        "    plt.savefig(save_path, dpi=300, bbox_inches='tight')\n",
        "    plt.show()\n",
        "\n",
        "    print(f\"📁 Loss plot saved as: {save_path}\")\n",
        "\n",
        "# ✅ Call function to save and plot\n",
        "plot_training_loss(history, \"training_loss.png\")\n"
      ],
      "metadata": {
        "colab": {
          "base_uri": "https://localhost:8080/",
          "height": 504
        },
        "id": "NXfUTHZNdzqx",
        "outputId": "5607ac20-3497-4942-f29a-6410850f7d9f"
      },
      "execution_count": null,
      "outputs": [
        {
          "output_type": "display_data",
          "data": {
            "text/plain": [
              "<Figure size 700x500 with 1 Axes>"
            ],
            "image/png": "[encoded data removed]"
          },
          "metadata": {}
        },
        {
          "output_type": "stream",
          "name": "stdout",
          "text": [
            "📁 Loss plot saved as: training_loss.png\n"
          ]
        }
      ]
    },
    {
      "cell_type": "code",
      "source": [
        "def plot_training_accuracy(history, save_path=\"training_accuracy.png\"):\n",
        "    \"\"\"Function to plot and save training accuracy.\"\"\"\n",
        "\n",
        "    epochs = range(1, len(history.history['accuracy']) + 1)\n",
        "\n",
        "    plt.figure(figsize=(7, 5))\n",
        "    plt.plot(epochs, history.history['accuracy'], label='Training Accuracy', marker='o', linestyle='--')\n",
        "    plt.plot(epochs, history.history['val_accuracy'], label='Validation Accuracy', marker='o', linestyle='-')\n",
        "    plt.xlabel('Epochs')\n",
        "    plt.ylabel('Accuracy')\n",
        "    plt.title('Model Training Progress: Accuracy')\n",
        "    plt.legend()\n",
        "    plt.grid()\n",
        "\n",
        "    # Save the plot\n",
        "    plt.savefig(save_path, dpi=300, bbox_inches='tight')\n",
        "    plt.show()\n",
        "\n",
        "    print(f\"📁 Accuracy plot saved as: {save_path}\")\n",
        "\n",
        "# ✅ Call function to save and plot\n",
        "plot_training_accuracy(history, \"training_accuracy.png\")\n"
      ],
      "metadata": {
        "colab": {
          "base_uri": "https://localhost:8080/",
          "height": 504
        },
        "id": "py7zVNuZd0TL",
        "outputId": "3b70b580-4156-428e-da71-8496196f844d"
      },
      "execution_count": null,
      "outputs": [
        {
          "output_type": "display_data",
          "data": {
            "text/plain": [
              "<Figure size 700x500 with 1 Axes>"
            ],
            "image/png": "[encoded data removed]"
          },
          "metadata": {}
        },
        {
          "output_type": "stream",
          "name": "stdout",
          "text": [
            "📁 Accuracy plot saved as: training_accuracy.png\n"
          ]
        }
      ]
    },
    {
      "cell_type": "code",
      "source": [
        "from google.colab import files\n",
        "files.download(\"training_loss.png\")\n",
        "files.download(\"training_accuracy.png\")\n"
      ],
      "metadata": {
        "colab": {
          "base_uri": "https://localhost:8080/",
          "height": 52
        },
        "id": "IsdchS41eAt2",
        "outputId": "edc72efc-b6a2-4c66-f7a1-88f588ef8194"
      },
      "execution_count": null,
      "outputs": [
        {
          "output_type": "display_data",
          "data": {
            "text/plain": [
              "<IPython.core.display.Javascript object>"
            ],
            "application/javascript": [
              "\n",
              "    async function download(id, filename, size) {\n",
              "      if (!google.colab.kernel.accessAllowed) {\n",
              "        return;\n",
              "      }\n",
              "      const div = document.createElement('div');\n",
              "      const label = document.createElement('label');\n",
              "      label.textContent = `Downloading \"${filename}\": `;\n",
              "      div.appendChild(label);\n",
              "      const progress = document.createElement('progress');\n",
              "      progress.max = size;\n",
              "      div.appendChild(progress);\n",
              "      document.body.appendChild(div);\n",
              "\n",
              "      const buffers = [];\n",
              "      let downloaded = 0;\n",
              "\n",
              "      const channel = await google.colab.kernel.comms.open(id);\n",
              "      // Send a message to notify the kernel that we're ready.\n",
              "      channel.send({})\n",
              "\n",
              "      for await (const message of channel.messages) {\n",
              "        // Send a message to notify the kernel that we're ready.\n",
              "        channel.send({})\n",
              "        if (message.buffers) {\n",
              "          for (const buffer of message.buffers) {\n",
              "            buffers.push(buffer);\n",
              "            downloaded += buffer.byteLength;\n",
              "            progress.value = downloaded;\n",
              "          }\n",
              "        }\n",
              "      }\n",
              "      const blob = new Blob(buffers, {type: 'application/binary'});\n",
              "      const a = document.createElement('a');\n",
              "      a.href = window.URL.createObjectURL(blob);\n",
              "      a.download = filename;\n",
              "      div.appendChild(a);\n",
              "      a.click();\n",
              "      div.remove();\n",
              "    }\n",
              "  "
            ]
          },
          "metadata": {}
        },
        {
          "output_type": "display_data",
          "data": {
            "text/plain": [
              "<IPython.core.display.Javascript object>"
            ],
            "application/javascript": [
              "download(\"download_db3e4916-a117-4ed0-a546-60e112439b09\", \"training_loss.png\", 130922)"
            ]
          },
          "metadata": {}
        },
        {
          "output_type": "display_data",
          "data": {
            "text/plain": [
              "<IPython.core.display.Javascript object>"
            ],
            "application/javascript": [
              "\n",
              "    async function download(id, filename, size) {\n",
              "      if (!google.colab.kernel.accessAllowed) {\n",
              "        return;\n",
              "      }\n",
              "      const div = document.createElement('div');\n",
              "      const label = document.createElement('label');\n",
              "      label.textContent = `Downloading \"${filename}\": `;\n",
              "      div.appendChild(label);\n",
              "      const progress = document.createElement('progress');\n",
              "      progress.max = size;\n",
              "      div.appendChild(progress);\n",
              "      document.body.appendChild(div);\n",
              "\n",
              "      const buffers = [];\n",
              "      let downloaded = 0;\n",
              "\n",
              "      const channel = await google.colab.kernel.comms.open(id);\n",
              "      // Send a message to notify the kernel that we're ready.\n",
              "      channel.send({})\n",
              "\n",
              "      for await (const message of channel.messages) {\n",
              "        // Send a message to notify the kernel that we're ready.\n",
              "        channel.send({})\n",
              "        if (message.buffers) {\n",
              "          for (const buffer of message.buffers) {\n",
              "            buffers.push(buffer);\n",
              "            downloaded += buffer.byteLength;\n",
              "            progress.value = downloaded;\n",
              "          }\n",
              "        }\n",
              "      }\n",
              "      const blob = new Blob(buffers, {type: 'application/binary'});\n",
              "      const a = document.createElement('a');\n",
              "      a.href = window.URL.createObjectURL(blob);\n",
              "      a.download = filename;\n",
              "      div.appendChild(a);\n",
              "      a.click();\n",
              "      div.remove();\n",
              "    }\n",
              "  "
            ]
          },
          "metadata": {}
        },
        {
          "output_type": "display_data",
          "data": {
            "text/plain": [
              "<IPython.core.display.Javascript object>"
            ],
            "application/javascript": [
              "download(\"download_80b97987-4aa4-4171-aae7-f97dc10313ab\", \"training_accuracy.png\", 124756)"
            ]
          },
          "metadata": {}
        }
      ]
    },
    {
      "cell_type": "code",
      "source": [],
      "metadata": {
        "id": "8D8Atjsbm7UH"
      },
      "execution_count": null,
      "outputs": []
    }
  ],
  "metadata": {
    "colab": {
      "provenance": [],
      "gpuType": "T4"
    },
    "kernelspec": {
      "display_name": "Python 3",
      "name": "python3"
    },
    "language_info": {
      "name": "python"
    },
    "accelerator": "GPU"
  },
  "nbformat": 4,
  "nbformat_minor": 0
}